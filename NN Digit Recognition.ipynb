{
 "cells": [
  {
   "cell_type": "code",
   "execution_count": 8,
   "metadata": {},
   "outputs": [],
   "source": [
    "import tensorflow as tf\n",
    "from tensorflow import _keras\n",
    "from tensorflow.keras import layers\n",
    "from tensorflow.keras.datasets import mnist\n",
    "\n"
   ]
  },
  {
   "cell_type": "code",
   "execution_count": 19,
   "metadata": {},
   "outputs": [
    {
     "name": "stdout",
     "output_type": "stream",
     "text": [
      "(60000, 28, 28)\n",
      "(60000,)\n"
     ]
    }
   ],
   "source": [
    "(x_train, y_train), (x_test, y_test) = mnist.load_data()\n",
    "print(x_train.shape)\n",
    "print(y_train.shape)\n",
    "\n",
    "X_train = x_train.reshape(-1, 28*28).astype(\"float32\") / 255.0\n",
    "X_test = x_test.reshape(-1, 28*28).astype(\"float32\") / 255.0\n"
   ]
  },
  {
   "cell_type": "code",
   "execution_count": 17,
   "metadata": {},
   "outputs": [],
   "source": [
    "#Sequential API (convinient but not flexible)\n",
    "\n",
    "\n",
    "from tensorflow import keras\n",
    "\n",
    "#All model at once\n",
    "# model = keras.Sequential(\n",
    "#     [\n",
    "#         layers.Dense(512, activation='relu'),\n",
    "#         layers.Dense(256, activation='relu'),\n",
    "#         layers.Dense(10) \n",
    "#     ]\n",
    "# )\n",
    "\n",
    "\n",
    "#Layer by layer for debugging\n",
    "model = keras.Sequential()\n",
    "\n",
    "model.add(keras.Input(shape=(784)))\n",
    "model.add(layers.Dense(512, activation='relu'))\n",
    "model.add(layers.Dense(256, activation='relu'))\n",
    "model.add(layers.Dense(10))\n",
    "\n",
    "\n",
    "\n",
    "\n"
   ]
  },
  {
   "cell_type": "code",
   "execution_count": 23,
   "metadata": {},
   "outputs": [],
   "source": [
    "#Functional API (moreflexible)\n",
    "\n",
    "from tensorflow import keras\n",
    "\n",
    "inputs = keras.Input(shape=(784))\n",
    "x = layers.Dense(512, activation='relu')(inputs)\n",
    "x = layers.Dense(256, activation='relu')(x)\n",
    "outputs = layers.Dense(10, activation='softmax')(x)\n",
    "model = keras.Model(inputs=inputs, outputs=outputs)\n",
    "\n"
   ]
  },
  {
   "cell_type": "code",
   "execution_count": 24,
   "metadata": {},
   "outputs": [],
   "source": [
    "model.compile(\n",
    "    loss = keras.losses.SparseCategoricalCrossentropy(from_logits=False),    #true for Sequence, false for functional\n",
    "    optimizer = keras.optimizers.Adam(learning_rate=0.001),\n",
    "    metrics=[\"accuracy\"],\n",
    "    \n",
    ")"
   ]
  },
  {
   "cell_type": "code",
   "execution_count": 25,
   "metadata": {},
   "outputs": [
    {
     "name": "stdout",
     "output_type": "stream",
     "text": [
      "Epoch 1/5\n",
      "1875/1875 - 15s - loss: 0.1829 - accuracy: 0.9445 - 15s/epoch - 8ms/step\n",
      "Epoch 2/5\n",
      "1875/1875 - 14s - loss: 0.0795 - accuracy: 0.9751 - 14s/epoch - 7ms/step\n",
      "Epoch 3/5\n",
      "1875/1875 - 14s - loss: 0.0538 - accuracy: 0.9831 - 14s/epoch - 7ms/step\n",
      "Epoch 4/5\n",
      "1875/1875 - 14s - loss: 0.0430 - accuracy: 0.9861 - 14s/epoch - 7ms/step\n",
      "Epoch 5/5\n",
      "1875/1875 - 15s - loss: 0.0334 - accuracy: 0.9895 - 15s/epoch - 8ms/step\n",
      "313/313 - 1s - loss: 0.0675 - accuracy: 0.9812 - 1s/epoch - 4ms/step\n"
     ]
    },
    {
     "data": {
      "text/plain": [
       "[0.06754481047391891, 0.9811999797821045]"
      ]
     },
     "execution_count": 25,
     "metadata": {},
     "output_type": "execute_result"
    }
   ],
   "source": [
    "model.fit(X_train, y_train, batch_size=32, epochs=5, verbose=2)\n",
    "model.evaluate(X_test, y_test, batch_size=32,verbose=2)"
   ]
  }
 ],
 "metadata": {
  "kernelspec": {
   "display_name": "Python 3",
   "language": "python",
   "name": "python3"
  },
  "language_info": {
   "codemirror_mode": {
    "name": "ipython",
    "version": 3
   },
   "file_extension": ".py",
   "mimetype": "text/x-python",
   "name": "python",
   "nbconvert_exporter": "python",
   "pygments_lexer": "ipython3",
   "version": "3.11.3"
  }
 },
 "nbformat": 4,
 "nbformat_minor": 2
}
