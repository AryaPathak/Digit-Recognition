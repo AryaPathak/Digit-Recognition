{
 "cells": [
  {
   "cell_type": "code",
   "execution_count": 4,
   "metadata": {},
   "outputs": [],
   "source": [
    "import tensorflow as tf\n",
    "from tensorflow import keras\n",
    "from tensorflow.keras import layers\n",
    "from tensorflow.keras.datasets import mnist\n",
    "\n"
   ]
  },
  {
   "cell_type": "code",
   "execution_count": 17,
   "metadata": {},
   "outputs": [
    {
     "name": "stdout",
     "output_type": "stream",
     "text": [
      "(60000, 28, 28)\n",
      "(60000,)\n"
     ]
    }
   ],
   "source": [
    "(x_train, y_train), (x_test, y_test) = mnist.load_data()\n",
    "print(x_train.shape)\n",
    "print(y_train.shape)\n",
    "\n",
    "X_train = x_train.reshape(-1, 28, 28).astype(\"float32\") / 255.0\n",
    "X_test = x_test.reshape(-1, 28, 28).astype(\"float32\") / 255.0\n",
    "\n"
   ]
  },
  {
   "cell_type": "code",
   "execution_count": 18,
   "metadata": {},
   "outputs": [],
   "source": [
    "model = keras.Sequential()\n",
    "model.add(keras.Input(shape=(None, 28)))\n",
    "model.add(\n",
    "    layers.SimpleRNN(512, return_sequences=True, activation='relu')\n",
    ")\n",
    "model.add(layers.SimpleRNN(512,activation='relu'))\n",
    "model.add(layers.Dense(10))\n",
    "\n",
    "#print(model.summary())"
   ]
  },
  {
   "cell_type": "code",
   "execution_count": 19,
   "metadata": {},
   "outputs": [],
   "source": [
    "model.compile(\n",
    "    loss = keras.losses.SparseCategoricalCrossentropy(from_logits=True),    #true for Sequence, false for functional\n",
    "    optimizer = keras.optimizers.Adam(learning_rate=0.001),\n",
    "    metrics=[\"accuracy\"],\n",
    "    \n",
    ")"
   ]
  },
  {
   "cell_type": "code",
   "execution_count": 20,
   "metadata": {},
   "outputs": [
    {
     "name": "stdout",
     "output_type": "stream",
     "text": [
      "Epoch 1/10\n",
      "938/938 - 213s - loss: 0.3004 - accuracy: 0.9098 - 213s/epoch - 227ms/step\n",
      "Epoch 2/10\n",
      "938/938 - 365s - loss: 0.1427 - accuracy: 0.9604 - 365s/epoch - 389ms/step\n",
      "Epoch 3/10\n",
      "938/938 - 321s - loss: 0.1140 - accuracy: 0.9690 - 321s/epoch - 342ms/step\n",
      "Epoch 4/10\n",
      "938/938 - 371s - loss: 0.1139 - accuracy: 0.9703 - 371s/epoch - 395ms/step\n",
      "Epoch 5/10\n",
      "938/938 - 218s - loss: 0.0830 - accuracy: 0.9778 - 218s/epoch - 232ms/step\n",
      "Epoch 6/10\n",
      "938/938 - 256s - loss: 0.0817 - accuracy: 0.9780 - 256s/epoch - 273ms/step\n",
      "Epoch 7/10\n",
      "938/938 - 208s - loss: 0.0766 - accuracy: 0.9798 - 208s/epoch - 221ms/step\n",
      "Epoch 8/10\n",
      "938/938 - 205s - loss: 0.0776 - accuracy: 0.9793 - 205s/epoch - 218ms/step\n",
      "Epoch 9/10\n",
      "938/938 - 245s - loss: 0.0729 - accuracy: 0.9804 - 245s/epoch - 261ms/step\n",
      "Epoch 10/10\n",
      "938/938 - 282s - loss: 0.0678 - accuracy: 0.9815 - 282s/epoch - 301ms/step\n",
      "157/157 - 23s - loss: 0.0717 - accuracy: 0.9821 - 23s/epoch - 149ms/step\n"
     ]
    },
    {
     "data": {
      "text/plain": [
       "[0.07166900485754013, 0.9821000099182129]"
      ]
     },
     "execution_count": 20,
     "metadata": {},
     "output_type": "execute_result"
    }
   ],
   "source": [
    "model.fit(X_train, y_train, batch_size=64, epochs=10, verbose=2)\n",
    "model.evaluate(X_test, y_test, batch_size=64,verbose=2)"
   ]
  }
 ],
 "metadata": {
  "kernelspec": {
   "display_name": "Python 3",
   "language": "python",
   "name": "python3"
  },
  "language_info": {
   "codemirror_mode": {
    "name": "ipython",
    "version": 3
   },
   "file_extension": ".py",
   "mimetype": "text/x-python",
   "name": "python",
   "nbconvert_exporter": "python",
   "pygments_lexer": "ipython3",
   "version": "3.11.3"
  }
 },
 "nbformat": 4,
 "nbformat_minor": 2
}
